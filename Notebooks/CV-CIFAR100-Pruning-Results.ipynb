{
 "cells": [
  {
   "cell_type": "code",
   "execution_count": 8,
   "id": "88f449cc",
   "metadata": {},
   "outputs": [],
   "source": [
    "import seml\n",
    "import pandas as pd\n",
    "import numpy as np\n",
    "from matplotlib import pyplot as plt\n",
    "\n",
    "pd.set_option('display.max_rows', None)\n",
    "pd.set_option('display.max_columns', None)"
   ]
  },
  {
   "cell_type": "code",
   "execution_count": 9,
   "id": "8d246289",
   "metadata": {},
   "outputs": [
    {
     "data": {
      "application/vnd.jupyter.widget-view+json": {
       "model_id": "1102f4ca32b946f69385529a7fd3f566",
       "version_major": 2,
       "version_minor": 0
      },
      "text/plain": [
       "  0%|          | 0/14 [00:00<?, ?it/s]"
      ]
     },
     "metadata": {},
     "output_type": "display_data"
    },
    {
     "data": {
      "application/vnd.jupyter.widget-view+json": {
       "model_id": "2aff441da2f840f9bcb11af90fbc6cb2",
       "version_major": 2,
       "version_minor": 0
      },
      "text/plain": [
       "  0%|          | 0/14 [00:00<?, ?it/s]"
      ]
     },
     "metadata": {},
     "output_type": "display_data"
    }
   ],
   "source": [
    "results = seml.get_results('startup_computer_vision_pretrain', to_data_frame=True)"
   ]
  },
  {
   "cell_type": "code",
   "execution_count": 10,
   "id": "eae204cd",
   "metadata": {},
   "outputs": [],
   "source": [
    "result_cols = [col for col in results.columns if col.startswith(\"result\")]"
   ]
  },
  {
   "cell_type": "code",
   "execution_count": 11,
   "id": "d609eea2",
   "metadata": {},
   "outputs": [],
   "source": [
    "# results = results.groupby(['config.arguments.method'])[\n",
    "#     result_cols\n",
    "# ].agg('mean')"
   ]
  },
  {
   "cell_type": "code",
   "execution_count": 12,
   "id": "4d6dbe18",
   "metadata": {},
   "outputs": [],
   "source": [
    "results = results.reset_index()"
   ]
  },
  {
   "cell_type": "code",
   "execution_count": 13,
   "id": "6dfc52fb",
   "metadata": {},
   "outputs": [
    {
     "data": {
      "text/html": [
       "<div>\n",
       "<style scoped>\n",
       "    .dataframe tbody tr th:only-of-type {\n",
       "        vertical-align: middle;\n",
       "    }\n",
       "\n",
       "    .dataframe tbody tr th {\n",
       "        vertical-align: top;\n",
       "    }\n",
       "\n",
       "    .dataframe thead th {\n",
       "        text-align: right;\n",
       "    }\n",
       "</style>\n",
       "<table border=\"1\" class=\"dataframe\">\n",
       "  <thead>\n",
       "    <tr style=\"text-align: right;\">\n",
       "      <th></th>\n",
       "      <th>config.arguments.model</th>\n",
       "      <th>result.ops</th>\n",
       "      <th>result.best_acc</th>\n",
       "    </tr>\n",
       "  </thead>\n",
       "  <tbody>\n",
       "    <tr>\n",
       "      <th>0</th>\n",
       "      <td>resnet50</td>\n",
       "      <td>1.304879e+09</td>\n",
       "      <td>0.7593</td>\n",
       "    </tr>\n",
       "    <tr>\n",
       "      <th>1</th>\n",
       "      <td>vgg19</td>\n",
       "      <td>5.127312e+08</td>\n",
       "      <td>0.7100</td>\n",
       "    </tr>\n",
       "    <tr>\n",
       "      <th>2</th>\n",
       "      <td>densenet169</td>\n",
       "      <td>1.077587e+09</td>\n",
       "      <td>0.7696</td>\n",
       "    </tr>\n",
       "    <tr>\n",
       "      <th>3</th>\n",
       "      <td>googlenet</td>\n",
       "      <td>5.360109e+08</td>\n",
       "      <td>0.7548</td>\n",
       "    </tr>\n",
       "    <tr>\n",
       "      <th>4</th>\n",
       "      <td>nasnet</td>\n",
       "      <td>6.819494e+08</td>\n",
       "      <td>0.7446</td>\n",
       "    </tr>\n",
       "    <tr>\n",
       "      <th>5</th>\n",
       "      <td>mobilenetv2</td>\n",
       "      <td>6.840047e+07</td>\n",
       "      <td>0.6898</td>\n",
       "    </tr>\n",
       "    <tr>\n",
       "      <th>6</th>\n",
       "      <td>preactresnet50</td>\n",
       "      <td>1.234182e+09</td>\n",
       "      <td>0.7571</td>\n",
       "    </tr>\n",
       "    <tr>\n",
       "      <th>7</th>\n",
       "      <td>resnet56</td>\n",
       "      <td>1.271218e+08</td>\n",
       "      <td>0.6762</td>\n",
       "    </tr>\n",
       "    <tr>\n",
       "      <th>8</th>\n",
       "      <td>resnext50</td>\n",
       "      <td>7.621756e+08</td>\n",
       "      <td>0.7405</td>\n",
       "    </tr>\n",
       "    <tr>\n",
       "      <th>9</th>\n",
       "      <td>se_resnet56</td>\n",
       "      <td>1.276440e+08</td>\n",
       "      <td>0.6794</td>\n",
       "    </tr>\n",
       "    <tr>\n",
       "      <th>10</th>\n",
       "      <td>xception</td>\n",
       "      <td>1.135948e+09</td>\n",
       "      <td>0.7378</td>\n",
       "    </tr>\n",
       "    <tr>\n",
       "      <th>11</th>\n",
       "      <td>vit_cifar</td>\n",
       "      <td>6.152505e+08</td>\n",
       "      <td>0.5177</td>\n",
       "    </tr>\n",
       "    <tr>\n",
       "      <th>12</th>\n",
       "      <td>inceptionv3</td>\n",
       "      <td>3.468715e+09</td>\n",
       "      <td>0.8013</td>\n",
       "    </tr>\n",
       "    <tr>\n",
       "      <th>13</th>\n",
       "      <td>resnext50</td>\n",
       "      <td>7.621756e+08</td>\n",
       "      <td>0.7677</td>\n",
       "    </tr>\n",
       "  </tbody>\n",
       "</table>\n",
       "</div>"
      ],
      "text/plain": [
       "   config.arguments.model    result.ops  result.best_acc\n",
       "0                resnet50  1.304879e+09           0.7593\n",
       "1                   vgg19  5.127312e+08           0.7100\n",
       "2             densenet169  1.077587e+09           0.7696\n",
       "3               googlenet  5.360109e+08           0.7548\n",
       "4                  nasnet  6.819494e+08           0.7446\n",
       "5             mobilenetv2  6.840047e+07           0.6898\n",
       "6          preactresnet50  1.234182e+09           0.7571\n",
       "7                resnet56  1.271218e+08           0.6762\n",
       "8               resnext50  7.621756e+08           0.7405\n",
       "9             se_resnet56  1.276440e+08           0.6794\n",
       "10               xception  1.135948e+09           0.7378\n",
       "11              vit_cifar  6.152505e+08           0.5177\n",
       "12            inceptionv3  3.468715e+09           0.8013\n",
       "13              resnext50  7.621756e+08           0.7677"
      ]
     },
     "execution_count": 13,
     "metadata": {},
     "output_type": "execute_result"
    }
   ],
   "source": [
    "results.loc[:, ['config.arguments.model', 'result.ops', 'result.best_acc']]"
   ]
  },
  {
   "cell_type": "code",
   "execution_count": 14,
   "id": "564e1fa7",
   "metadata": {},
   "outputs": [
    {
     "data": {
      "image/png": "[encoded data removed]",
      "text/plain": [
       "<Figure size 640x480 with 1 Axes>"
      ]
     },
     "metadata": {},
     "output_type": "display_data"
    }
   ],
   "source": [
    "import matplotlib.pyplot as plt\n",
    "plt.scatter(x='result.ops', y='result.best_acc', data=results)\n",
    "\n",
    "\n",
    "# Add labels for each point\n",
    "for i in range(len(results)):\n",
    "    plt.text(x=results['result.ops'][i]+1e7, y=results['result.best_acc'][i]+0.003, s=results['config.arguments.model'][i], fontsize=10)\n",
    "\n",
    "# Add axis labels and title\n",
    "plt.xlabel('Ops')\n",
    "plt.ylabel('Best Accuracy')\n",
    "plt.title('Model Performance')\n",
    "\n",
    "# Show the plot\n",
    "plt.show()"
   ]
  },
  {
   "cell_type": "code",
   "execution_count": null,
   "id": "510c59db",
   "metadata": {},
   "outputs": [],
   "source": []
  }
 ],
 "metadata": {
  "kernelspec": {
   "display_name": "Python 3 (ipykernel)",
   "language": "python",
   "name": "python3"
  },
  "language_info": {
   "codemirror_mode": {
    "name": "ipython",
    "version": 3
   },
   "file_extension": ".py",
   "mimetype": "text/x-python",
   "name": "python",
   "nbconvert_exporter": "python",
   "pygments_lexer": "ipython3",
   "version": "3.10.6"
  }
 },
 "nbformat": 4,
 "nbformat_minor": 5
}
