{
 "cells": [
  {
   "cell_type": "code",
   "execution_count": 9,
   "id": "e57f1356",
   "metadata": {},
   "outputs": [],
   "source": [
    "import os\n",
    "os.chdir('/nfs/homedirs/rachwan/Evaluation-Tool')"
   ]
  },
  {
   "cell_type": "markdown",
   "id": "6c688997",
   "metadata": {},
   "source": [
    "# ResNet18"
   ]
  },
  {
   "cell_type": "code",
   "execution_count": 10,
   "id": "78a3cc38",
   "metadata": {},
   "outputs": [],
   "source": [
    "import copy\n",
    "\n",
    "from utils.model_utils import *\n",
    "from models.networks.ResNet18 import ResNet18\n",
    "\n",
    "from models.metrics.Evaluator import Evaluator"
   ]
  },
  {
   "cell_type": "markdown",
   "id": "855bf852",
   "metadata": {},
   "source": [
    "## Load Model"
   ]
  },
  {
   "cell_type": "code",
   "execution_count": 11,
   "id": "7df02d24",
   "metadata": {},
   "outputs": [],
   "source": [
    "model = ResNet18()"
   ]
  },
  {
   "cell_type": "markdown",
   "id": "00586265",
   "metadata": {},
   "source": [
    "## Load Evaluation Tool"
   ]
  },
  {
   "cell_type": "code",
   "execution_count": 12,
   "id": "0bb5dcd2",
   "metadata": {},
   "outputs": [],
   "source": [
    "evaluator = Evaluator()"
   ]
  },
  {
   "cell_type": "markdown",
   "id": "2df0c379",
   "metadata": {},
   "source": [
    "## Load Loss"
   ]
  },
  {
   "cell_type": "code",
   "execution_count": 13,
   "id": "61f00b0f",
   "metadata": {},
   "outputs": [],
   "source": [
    "loss = torch.nn.CrossEntropyLoss()"
   ]
  },
  {
   "cell_type": "markdown",
   "id": "b99003da",
   "metadata": {},
   "source": [
    "## Evaluate model Batch Iteration on an image of size 224 and a batch size of 128"
   ]
  },
  {
   "cell_type": "code",
   "execution_count": 14,
   "id": "28c41a76",
   "metadata": {},
   "outputs": [],
   "source": [
    "evaluator.evaluate_training(model, tuple([3,244,244]), loss, 128, 'cuda')"
   ]
  },
  {
   "cell_type": "code",
   "execution_count": 15,
   "id": "33595cbd",
   "metadata": {},
   "outputs": [
    {
     "data": {
      "text/plain": [
       "{'time': 204.72012329101562,\n",
       " 'gpu': 3.578036736,\n",
       " 'disk': 99.3140145,\n",
       " 'cost': 0.82,\n",
       " 'emission': 0.011407341471016554,\n",
       " 'energy': 0.03789814442198191}"
      ]
     },
     "execution_count": 15,
     "metadata": {},
     "output_type": "execute_result"
    }
   ],
   "source": [
    "r18metrics = copy.deepcopy(evaluator.get_all_metrics())\n",
    "r18metrics"
   ]
  },
  {
   "cell_type": "markdown",
   "id": "96e34c06",
   "metadata": {},
   "source": [
    "# ResNet50"
   ]
  },
  {
   "cell_type": "code",
   "execution_count": 16,
   "id": "75226d89",
   "metadata": {},
   "outputs": [],
   "source": [
    "from models.networks.ResNet50 import ResNet50"
   ]
  },
  {
   "cell_type": "code",
   "execution_count": 17,
   "id": "f8c0f036",
   "metadata": {},
   "outputs": [],
   "source": [
    "model = ResNet50()"
   ]
  },
  {
   "cell_type": "code",
   "execution_count": 18,
   "id": "81149ac5",
   "metadata": {},
   "outputs": [],
   "source": [
    "evaluator = Evaluator()"
   ]
  },
  {
   "cell_type": "code",
   "execution_count": 19,
   "id": "12810a5e",
   "metadata": {},
   "outputs": [],
   "source": [
    "loss = torch.nn.CrossEntropyLoss()"
   ]
  },
  {
   "cell_type": "code",
   "execution_count": 20,
   "id": "b4f22b4c",
   "metadata": {},
   "outputs": [],
   "source": [
    "evaluator.evaluate_training(model, tuple([3,244,244]), loss, 128, 'cuda')"
   ]
  },
  {
   "cell_type": "code",
   "execution_count": 21,
   "id": "16f8c98d",
   "metadata": {},
   "outputs": [
    {
     "data": {
      "text/plain": [
       "{'time': 354.80267333984375,\n",
       " 'gpu': 13.706692096000001,\n",
       " 'disk': 207.8178385,\n",
       " 'cost': 0.82,\n",
       " 'emission': 0.020364831842104747,\n",
       " 'energy': 0.06765724864486627}"
      ]
     },
     "execution_count": 21,
     "metadata": {},
     "output_type": "execute_result"
    }
   ],
   "source": [
    "r50metrics = copy.deepcopy(evaluator.get_all_metrics())\n",
    "r50metrics"
   ]
  },
  {
   "cell_type": "markdown",
   "id": "fc5dc697",
   "metadata": {},
   "source": [
    "# Compare Models"
   ]
  },
  {
   "cell_type": "code",
   "execution_count": 22,
   "id": "befe625c",
   "metadata": {},
   "outputs": [],
   "source": [
    "import matplotlib.pyplot as plt\n",
    "import numpy as np"
   ]
  },
  {
   "cell_type": "code",
   "execution_count": 23,
   "id": "64f1cbbe",
   "metadata": {},
   "outputs": [
    {
     "data": {
      "image/png": "[encoded data removed]",
      "text/plain": [
       "<Figure size 640x480 with 1 Axes>"
      ]
     },
     "metadata": {},
     "output_type": "display_data"
    }
   ],
   "source": [
    "labels = ['Time', 'GPU', 'DISK', 'COST', 'CO2', 'Energy']\n",
    "r18_means = [round(r18/r50,1) * 100 for r18, r50 in zip(r18metrics.values(), r50metrics.values())]\n",
    "r50_means = [100 for v in r50metrics.values()]\n",
    "x = np.arange(len(labels))  # the label locations\n",
    "width = 0.35  # the width of the bars\n",
    "\n",
    "fig, ax = plt.subplots()\n",
    "rects1 = ax.bar(x - width/2, r18_means, width, label='ResNet18')\n",
    "rects2 = ax.bar(x + width/2, r50_means, width, label='ResNet50')\n",
    "\n",
    "# Add some text for labels, title and custom x-axis tick labels, etc.\n",
    "ax.set_ylabel('Scores')\n",
    "ax.set_title('ResNet18 vs ResNet50')\n",
    "ax.set_xticks(x, labels)\n",
    "ax.legend()\n",
    "\n",
    "ax.bar_label(rects1, padding=3)\n",
    "ax.bar_label(rects2, padding=3)\n",
    "\n",
    "fig.tight_layout()\n",
    "\n",
    "plt.show()"
   ]
  },
  {
   "cell_type": "code",
   "execution_count": null,
   "id": "1aefb531",
   "metadata": {},
   "outputs": [],
   "source": []
  }
 ],
 "metadata": {
  "kernelspec": {
   "display_name": "Python 3 (ipykernel)",
   "language": "python",
   "name": "python3"
  },
  "language_info": {
   "codemirror_mode": {
    "name": "ipython",
    "version": 3
   },
   "file_extension": ".py",
   "mimetype": "text/x-python",
   "name": "python",
   "nbconvert_exporter": "python",
   "pygments_lexer": "ipython3",
   "version": "3.10.6"
  }
 },
 "nbformat": 4,
 "nbformat_minor": 5
}