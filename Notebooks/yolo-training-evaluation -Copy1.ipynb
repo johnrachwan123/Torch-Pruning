{
 "cells": [
  {
   "cell_type": "code",
   "execution_count": 1,
   "id": "ec1b8de0",
   "metadata": {},
   "outputs": [],
   "source": [
    "import os\n",
    "os.chdir('/nfs/homedirs/rachwan/Torch-Pruning/examples/yolo_example/yolov5')\n",
    "import torch\n",
    "import numpy as np"
   ]
  },
  {
   "cell_type": "code",
   "execution_count": 2,
   "id": "62f89c8b",
   "metadata": {
    "scrolled": true
   },
   "outputs": [],
   "source": [
    "model = torch.load('/nfs/homedirs/rachwan/Torch-Pruning/examples/yolo_example/yolov5/runs/train/exp283/weights/best.pt')['model'].cuda()\n",
    "# model = checkpoint['model'].cuda()\n",
    "# from models.common import DetectMultiBackend\n",
    "# model = DetectMultiBackend('/nfs/homedirs/rachwan/Torch-Pruning/examples/yolo_example/yolov5/runs/train/exp289/weights/best.pt', device='cuda', dnn=False, data='coco128.yaml', fp16=False)\n",
    "\n",
    "model.float()\n",
    "model.train()\n",
    "for k, v in model.named_parameters():\n",
    "    v.requires_grad = True  # train all layers"
   ]
  },
  {
   "cell_type": "code",
   "execution_count": 3,
   "id": "3bd5fe0e",
   "metadata": {},
   "outputs": [
    {
     "name": "stdout",
     "output_type": "stream",
     "text": [
      "Number of Parameters: 45.2M\n"
     ]
    }
   ],
   "source": [
    "params = sum([np.prod(p.size()) for p in model.parameters()])\n",
    "print(\"Number of Parameters: %.1fM\" % (params / 1e6))"
   ]
  },
  {
   "cell_type": "code",
   "execution_count": 4,
   "id": "a8ef0fb6",
   "metadata": {},
   "outputs": [
    {
     "data": {
      "text/plain": [
       "186416640"
      ]
     },
     "execution_count": 4,
     "metadata": {},
     "output_type": "execute_result"
    }
   ],
   "source": [
    "torch.cuda.memory_allocated()"
   ]
  },
  {
   "cell_type": "code",
   "execution_count": 5,
   "id": "cf6bd1db",
   "metadata": {},
   "outputs": [
    {
     "data": {
      "text/plain": [
       "188413440"
      ]
     },
     "execution_count": 5,
     "metadata": {},
     "output_type": "execute_result"
    }
   ],
   "source": [
    "torch.cuda.max_memory_allocated()"
   ]
  },
  {
   "cell_type": "code",
   "execution_count": 6,
   "id": "5d3f6dfc",
   "metadata": {},
   "outputs": [
    {
     "name": "stderr",
     "output_type": "stream",
     "text": [
      "/nfs/homedirs/rachwan/miniconda3/envs/structure_pruning/lib/python3.10/site-packages/torch/cuda/memory.py:278: FutureWarning: torch.cuda.reset_max_memory_allocated now calls torch.cuda.reset_peak_memory_stats, which resets /all/ peak memory stats.\n",
      "  warnings.warn(\n"
     ]
    }
   ],
   "source": [
    "torch.cuda.reset_max_memory_allocated()"
   ]
  },
  {
   "cell_type": "code",
   "execution_count": 7,
   "id": "3d2e56cf",
   "metadata": {},
   "outputs": [
    {
     "data": {
      "text/plain": [
       "186416640"
      ]
     },
     "execution_count": 7,
     "metadata": {},
     "output_type": "execute_result"
    }
   ],
   "source": [
    "torch.cuda.max_memory_allocated()"
   ]
  },
  {
   "cell_type": "code",
   "execution_count": 8,
   "id": "99b7e6b1",
   "metadata": {},
   "outputs": [],
   "source": [
    "from evaluation_tool.models.metrics.Evaluator import Evaluator\n",
    "evaluator = Evaluator()"
   ]
  },
  {
   "cell_type": "code",
   "execution_count": 9,
   "id": "84f05d5d",
   "metadata": {},
   "outputs": [],
   "source": [
    "from utils.loss import ComputeLoss\n",
    "compute_loss = ComputeLoss(model)"
   ]
  },
  {
   "cell_type": "code",
   "execution_count": 10,
   "id": "e7370daa",
   "metadata": {},
   "outputs": [],
   "source": [
    "evaluator.evaluate_training(model, tuple([3, 640, 640]), compute_loss, 20, 'cuda', iterations=100)"
   ]
  },
  {
   "cell_type": "code",
   "execution_count": 11,
   "id": "81095586",
   "metadata": {},
   "outputs": [
    {
     "data": {
      "text/plain": [
       "{'time': 12.1259716796875,\n",
       " 'gpu': 27.722969088000003,\n",
       " 'disk': 1535.6424379999999,\n",
       " 'cost': 5558.849999999999,\n",
       " 'emission': 0.016660547701994377,\n",
       " 'energy': 0.055350656817257066}"
      ]
     },
     "execution_count": 11,
     "metadata": {},
     "output_type": "execute_result"
    }
   ],
   "source": [
    "evaluator.get_all_metrics()"
   ]
  },
  {
   "cell_type": "code",
   "execution_count": null,
   "id": "6221e309",
   "metadata": {},
   "outputs": [],
   "source": []
  },
  {
   "cell_type": "code",
   "execution_count": null,
   "id": "08112588",
   "metadata": {},
   "outputs": [],
   "source": []
  },
  {
   "cell_type": "code",
   "execution_count": null,
   "id": "6110ae46",
   "metadata": {},
   "outputs": [],
   "source": []
  },
  {
   "cell_type": "code",
   "execution_count": null,
   "id": "1dcabb15",
   "metadata": {},
   "outputs": [],
   "source": []
  },
  {
   "cell_type": "code",
   "execution_count": 1,
   "id": "2216a559",
   "metadata": {},
   "outputs": [],
   "source": [
    "import os\n",
    "os.chdir('/nfs/homedirs/rachwan/Torch-Pruning/examples/yolo_example/yolov5')\n",
    "import torch\n",
    "import numpy as np\n",
    "import yaml"
   ]
  },
  {
   "cell_type": "code",
   "execution_count": 2,
   "id": "aba7cbb3",
   "metadata": {},
   "outputs": [],
   "source": [
    "from models.yolo import Model\n",
    "from utils.torch_utils import de_parallel"
   ]
  },
  {
   "cell_type": "code",
   "execution_count": 3,
   "id": "f9d243f8",
   "metadata": {},
   "outputs": [
    {
     "name": "stderr",
     "output_type": "stream",
     "text": [
      "Overriding model.yaml anchors with anchors=3\n",
      "\n",
      "                 from  n    params  module                                  arguments                     \n",
      "  0                -1  1      8800  models.common.Conv                      [3, 80, 6, 2, 2]              \n",
      "  1                -1  1    115520  models.common.Conv                      [80, 160, 3, 2]               \n",
      "  2                -1  4    309120  models.common.C3                        [160, 160, 4]                 \n",
      "  3                -1  1    461440  models.common.Conv                      [160, 320, 3, 2]              \n",
      "  4                -1  8   2259200  models.common.C3                        [320, 320, 8]                 \n",
      "  5                -1  1   1844480  models.common.Conv                      [320, 640, 3, 2]              \n",
      "  6                -1 12  13125120  models.common.C3                        [640, 640, 12]                \n",
      "  7                -1  1   7375360  models.common.Conv                      [640, 1280, 3, 2]             \n",
      "  8                -1  4  19676160  models.common.C3                        [1280, 1280, 4]               \n",
      "  9                -1  1   4099840  models.common.SPPF                      [1280, 1280, 5]               \n",
      " 10                -1  1    820480  models.common.Conv                      [1280, 640, 1, 1]             \n",
      " 11                -1  1         0  torch.nn.modules.upsampling.Upsample    [None, 2, 'nearest']          \n",
      " 12           [-1, 6]  1         0  models.common.Concat                    [1]                           \n",
      " 13                -1  4   5332480  models.common.C3                        [1280, 640, 4, False]         \n",
      " 14                -1  1    205440  models.common.Conv                      [640, 320, 1, 1]              \n",
      " 15                -1  1         0  torch.nn.modules.upsampling.Upsample    [None, 2, 'nearest']          \n",
      " 16           [-1, 4]  1         0  models.common.Concat                    [1]                           \n",
      " 17                -1  4   1335040  models.common.C3                        [640, 320, 4, False]          \n",
      " 18                -1  1    922240  models.common.Conv                      [320, 320, 3, 2]              \n",
      " 19          [-1, 14]  1         0  models.common.Concat                    [1]                           \n",
      " 20                -1  4   4922880  models.common.C3                        [640, 640, 4, False]          \n",
      " 21                -1  1   3687680  models.common.Conv                      [640, 640, 3, 2]              \n",
      " 22          [-1, 10]  1         0  models.common.Concat                    [1]                           \n",
      " 23                -1  4  19676160  models.common.C3                        [1280, 1280, 4, False]        \n",
      " 24      [17, 20, 23]  1    571965  models.yolo.Detect                      [80, [[0, 1, 2, 3, 4, 5], [0, 1, 2, 3, 4, 5], [0, 1, 2, 3, 4, 5]], [320, 640, 1280]]\n",
      "YOLOv5x summary: 445 layers, 86749405 parameters, 86749405 gradients, 206.3 GFLOPs\n",
      "\n"
     ]
    },
    {
     "name": "stdout",
     "output_type": "stream",
     "text": [
      "Number of Parameters: 86.7M\n"
     ]
    }
   ],
   "source": [
    "model = Model('models/yolov5x.yaml', ch=3, nc=80, anchors=3).to('cuda')  # create\n",
    "# checkpoint = torch.load('/nfs/homedirs/rachwan/Torch-Pruning/yolov5n.pt')\n",
    "# model = checkpoint['model'].cuda()\n",
    "# model = torch.hub.load('ultralytics/yolov5', 'yolov5x', force_reload=True)\n",
    "model.float()\n",
    "model.train()\n",
    "for k, v in model.named_parameters():\n",
    "    v.requires_grad = True  # train all layers\n",
    "model.hyp = {'lr0': 0.01, 'lrf': 0.01, 'momentum': 0.937, 'weight_decay': 0.0006328125000000001, 'warmup_epochs': 3.0, 'warmup_momentum': 0.8, 'warmup_bias_lr': 0.1, 'box': 0.05, 'cls': 0.5, 'cls_pw': 1.0, 'obj': 1.0, 'obj_pw': 1.0, 'iou_t': 0.2, 'anchor_t': 4.0, 'fl_gamma': 0.0, 'hsv_h': 0.015, 'hsv_s': 0.7, 'hsv_v': 0.4, 'degrees': 0.0, 'translate': 0.1, 'scale': 0.5, 'shear': 0.0, 'perspective': 0.0, 'flipud': 0.0, 'fliplr': 0.5, 'mosaic': 1.0, 'mixup': 0.0, 'copy_paste': 0.0, 'label_smoothing': 0.0}\n",
    "model(torch.rand([20] + list([3,640,640])).to('cuda'))\n",
    "params = sum([np.prod(p.size()) for p in model.parameters()])\n",
    "print(\"Number of Parameters: %.1fM\" % (params / 1e6))"
   ]
  },
  {
   "cell_type": "code",
   "execution_count": 4,
   "id": "fc378300",
   "metadata": {},
   "outputs": [
    {
     "name": "stdout",
     "output_type": "stream",
     "text": [
      "torch.Size([20, 3, 80, 80, 85])\n",
      "torch.Size([222, 6])\n"
     ]
    },
    {
     "data": {
      "text/plain": [
       "{'time': 14.0243359375,\n",
       " 'gpu': 28.51089152,\n",
       " 'disk': 2948.0350639999997,\n",
       " 'cost': 6428.4,\n",
       " 'emission': 0.019931808907760425,\n",
       " 'energy': 0.06621863424505126}"
      ]
     },
     "execution_count": 4,
     "metadata": {},
     "output_type": "execute_result"
    }
   ],
   "source": [
    "from evaluation_tool.models.metrics.Evaluator import Evaluator\n",
    "evaluator = Evaluator()\n",
    "from utils.loss import ComputeLoss\n",
    "compute_loss = ComputeLoss(model)\n",
    "evaluator.evaluate_training(model, tuple([3, 640, 640]), compute_loss, 20, 'cuda', iterations=100)\n",
    "evaluator.get_all_metrics()"
   ]
  }
 ],
 "metadata": {
  "kernelspec": {
   "display_name": "Python 3 (ipykernel)",
   "language": "python",
   "name": "python3"
  },
  "language_info": {
   "codemirror_mode": {
    "name": "ipython",
    "version": 3
   },
   "file_extension": ".py",
   "mimetype": "text/x-python",
   "name": "python",
   "nbconvert_exporter": "python",
   "pygments_lexer": "ipython3",
   "version": "3.10.6"
  }
 },
 "nbformat": 4,
 "nbformat_minor": 5
}
