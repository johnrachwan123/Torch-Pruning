{
 "cells": [
  {
   "cell_type": "code",
   "execution_count": 1,
   "id": "f9d439b6",
   "metadata": {},
   "outputs": [],
   "source": [
    "import os\n",
    "os.chdir('/nfs/homedirs/rachwan/Evaluation-Tool')"
   ]
  },
  {
   "cell_type": "code",
   "execution_count": 2,
   "id": "696be888",
   "metadata": {},
   "outputs": [
    {
     "name": "stdout",
     "output_type": "stream",
     "text": [
      "{'cost': 0.82,\r\n",
      " 'disk': 397256058,\r\n",
      " 'dmas': 48937912,\r\n",
      " 'emission': 3.535626965263703e-07,\r\n",
      " 'energy': 1.1746268987587053e-06,\r\n",
      " 'flops': 75249536,\r\n",
      " 'gpu': 0.074574848,\r\n",
      " 'macs': 37634048,\r\n",
      " 'time': 0.007939815521240234}\r\n"
     ]
    }
   ],
   "source": [
    "!python evaluate_inference.py --model ResNet18 --input_dim 3 32 32 --output_dim 10"
   ]
  },
  {
   "cell_type": "code",
   "execution_count": 3,
   "id": "4f1dd6ac",
   "metadata": {},
   "outputs": [
    {
     "name": "stdout",
     "output_type": "stream",
     "text": [
      "{'cost': 0.82,\r\n",
      " 'disk': 397255990,\r\n",
      " 'emission': 4.625659044786542e-05,\r\n",
      " 'energy': 0.0001536763802254665,\r\n",
      " 'gpu': 0.183304192,\r\n",
      " 'time': 1.6607143878936768}\r\n"
     ]
    }
   ],
   "source": [
    "!python evaluate_training.py --model ResNet18 --input_dim 3 32 32 --output_dim 10 --batch_size 128"
   ]
  },
  {
   "cell_type": "code",
   "execution_count": 8,
   "id": "097882da",
   "metadata": {},
   "outputs": [
    {
     "name": "stdout",
     "output_type": "stream",
     "text": [
      "Files already downloaded and verified\n",
      "Files already downloaded and verified\n",
      "\n",
      "\n",
      "EPOCH 0  \n",
      "\n",
      "\n",
      "\n",
      "\n",
      "Training... 390/391\n",
      "\n",
      "Evaluating... 78/79\n",
      "\n",
      "Test Accuracy: 0.6390427215189873\n",
      "{'cost': 0.82,\n",
      " 'disk': 397256058,\n",
      " 'emission': 0.0013077418884898783,\n",
      " 'energy': 0.0043446574368434495,\n",
      " 'gpu': 0.490962944,\n",
      " 'time': 44.34490656852722}\n"
     ]
    }
   ],
   "source": [
    "!python evaluate_full_training.py --model ResNet18 --data_set CIFAR10 --input_dim 3 32 32 --output_dim 10 --batch_size 128 --epochs 1"
   ]
  }
 ],
 "metadata": {
  "kernelspec": {
   "display_name": "Python 3 (ipykernel)",
   "language": "python",
   "name": "python3"
  },
  "language_info": {
   "codemirror_mode": {
    "name": "ipython",
    "version": 3
   },
   "file_extension": ".py",
   "mimetype": "text/x-python",
   "name": "python",
   "nbconvert_exporter": "python",
   "pygments_lexer": "ipython3",
   "version": "3.10.6"
  }
 },
 "nbformat": 4,
 "nbformat_minor": 5
}
