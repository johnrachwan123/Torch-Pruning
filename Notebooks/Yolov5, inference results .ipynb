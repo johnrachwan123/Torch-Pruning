{
 "cells": [
  {
   "cell_type": "markdown",
   "id": "efc6527c",
   "metadata": {},
   "source": [
    "yolov5slite"
   ]
  },
  {
   "cell_type": "code",
   "execution_count": null,
   "id": "df301ec6",
   "metadata": {},
   "outputs": [],
   "source": [
    "b1: {'time': 7.33982763671875,\n",
    " 'gpu': 0.065104384,\n",
    " 'disk': 7.56661,\n",
    " 'cost': 0.82,\n",
    " 'emission': 0.33049968725826645,\n",
    " 'energy': 1.098005605509191}\n",
    "\n",
    "b32: {'time': 28.68366015625,\n",
    " 'gpu': 1.7914787840000002,\n",
    " 'disk': 7.56661,\n",
    " 'cost': 0.82,\n",
    " 'emission': 1.7695666199904376,\n",
    " 'energy': 5.878958870400125}\n",
    "\n",
    "trt1: {'time': 0.9959827880859375,\n",
    " 'gpu': 0.088891392,\n",
    " 'disk': 4.0,\n",
    " 'cost': 0.82,\n",
    " 'emission': 0.05250088401402907,\n",
    " 'energy': 0.1744215415748474}\n",
    "\n",
    "trt32: {'time': 8.606232421875,\n",
    " 'gpu': 0.296471552,\n",
    " 'disk': 4.0,\n",
    " 'cost': 0.82,\n",
    " 'emission': 0.42659563176072374,\n",
    " 'energy': 1.417261235085461}\n",
    "\n",
    "\n",
    "Class     Images  Instances          P          R      mAP50   \n",
    "all       5000      36335      0.596      0.456      0.483      0.295"
   ]
  },
  {
   "cell_type": "markdown",
   "id": "25830ee0",
   "metadata": {},
   "source": [
    "yolov5mlite"
   ]
  },
  {
   "cell_type": "code",
   "execution_count": null,
   "id": "208274e9",
   "metadata": {},
   "outputs": [],
   "source": [
    "{'time': 10.3831806640625,\n",
    " 'gpu': 0.101709824,\n",
    " 'disk': 26.869992999999997,\n",
    " 'cost': 0.82,\n",
    " 'emission': 0.47339549226408906,\n",
    " 'energy': 1.5727424992162429}\n",
    "\n",
    "{'time': 57.310546875,\n",
    " 'gpu': 3.04282368,\n",
    " 'disk': 26.869992999999997,\n",
    " 'cost': 0.82,\n",
    " 'emission': 3.5538121864940826,\n",
    " 'energy': 11.80668500496373}\n",
    "\n",
    "{'time': 1.5061884765625,\n",
    " 'gpu': 0.009199616,\n",
    " 'disk': 15.0,\n",
    " 'cost': 343.58,\n",
    " 'emission': 0.07255220575024673,\n",
    " 'energy': 0.24103722840613537}\n",
    "\n",
    "{'time': 18.55625,\n",
    " 'gpu': 0.29892915200000003,\n",
    " 'disk': 15.0,\n",
    " 'cost': 4227.099999999999,\n",
    " 'emission': 1.105237208377201,\n",
    " 'energy': 3.6718844132132933}\n",
    "\n",
    "Class     Images  Instances          P          R      mAP50   \n",
    "                   all       5000      36335      0.698       0.57      0.615      0.426"
   ]
  },
  {
   "cell_type": "markdown",
   "id": "e5459269",
   "metadata": {},
   "source": [
    "yolov5llite"
   ]
  },
  {
   "cell_type": "code",
   "execution_count": null,
   "id": "e472ed41",
   "metadata": {},
   "outputs": [],
   "source": [
    "{'time': 12.7940419921875,\n",
    " 'gpu': 0.178425344,\n",
    " 'disk': 74.762129,\n",
    " 'cost': 0.82,\n",
    " 'emission': 0.6425981783569263,\n",
    " 'energy': 2.1348776689598883}\n",
    "\n",
    "{'time': 88.9806640625,\n",
    " 'gpu': 2.891800576,\n",
    " 'disk': 74.762129,\n",
    " 'cost': 0.82,\n",
    " 'emission': 5.484768286356657,\n",
    " 'energy': 18.221821549357667}\n",
    "\n",
    "{'time': 1.9401524658203124,\n",
    " 'gpu': 0.009199616,\n",
    " 'disk': 44.0,\n",
    " 'cost': 0.82,\n",
    " 'emission': 0.11297993624954904,\n",
    " 'energy': 0.3753486254137842}\n",
    "\n",
    "{'time': 28.9039140625,\n",
    " 'gpu': 0.29892915200000003,\n",
    " 'disk': 44.0,\n",
    "'cost': 13158.539999999999,\n",
    " 'emission': 1.7999448265177733,\n",
    " 'energy': 5.979883144577321}\n",
    "\n",
    "Class     Images  Instances          P          R      mAP50   \n",
    "                   all       5000      36335      0.714      0.606      0.652      0.465"
   ]
  },
  {
   "cell_type": "markdown",
   "id": "86ecff3e",
   "metadata": {},
   "source": [
    "yolov5xlite"
   ]
  },
  {
   "cell_type": "code",
   "execution_count": null,
   "id": "4963167d",
   "metadata": {},
   "outputs": [],
   "source": [
    "{'time': 15.4296005859375,\n",
    " 'gpu': 0.29081856,\n",
    " 'disk': 159.76284099999998,\n",
    " 'cost': 0.82,\n",
    " 'emission': 0.8162526616642753,\n",
    " 'energy': 2.711802862672011}\n",
    "\n",
    "{'time': 162.485859375,\n",
    " 'gpu': 3.51392512,\n",
    " 'disk': 159.76284099999998,\n",
    " 'cost': 0.82,\n",
    " 'emission': 10.008460879883202,\n",
    " 'energy': 33.25070059761862}\n",
    "\n",
    "\n",
    "{'time': 3.1086298828125,\n",
    " 'gpu': 0.088891392,\n",
    " 'disk': 94,\n",
    " 'cost': 708.4799999999999,\n",
    " 'emission': 0.1898655562665945,\n",
    " 'energy': 0.6307825789587858}\n",
    "\n",
    "{'time': 53.581140625,\n",
    " 'gpu': 0.296471552,\n",
    " 'disk': 94,\n",
    " 'cost': 12204.88,\n",
    " 'emission': 3.304583720563737,\n",
    " 'energy': 10.978683457022383}\n",
    "\n",
    "\n",
    "\n",
    "\n",
    " Class yolov5llite b1    Images  Instances          P          R      mAP50   \n",
    "                   all       5000      36335      0.731      0.627      0.675      0.494"
   ]
  },
  {
   "cell_type": "markdown",
   "id": "122b663b",
   "metadata": {},
   "source": [
    "yolov5n"
   ]
  },
  {
   "cell_type": "code",
   "execution_count": null,
   "id": "3cf146d9",
   "metadata": {},
   "outputs": [],
   "source": [
    "Class     Images  Instances          P          R      mAP50   \n",
    "                   all       5000      36335      0.577      0.423      0.451      0.276\n",
    "\n",
    "\n",
    "b1: {'time': 8.9916591796875,\n",
    " 'gpu': 0.052317184,\n",
    " 'disk': 7.0484089999999995,\n",
    " 'cost': 2048.3599999999997,\n",
    " 'emission': 0.4031839370158231,\n",
    " 'energy': 1.3394815183249937}\n",
    "    \n",
    "b2: {'time': 19.69787109375,\n",
    " 'gpu': 1.199720448,\n",
    " 'disk': 7.0484089999999995,\n",
    " 'cost': 4487.04,\n",
    " 'emission': 1.1648332357325244,\n",
    " 'energy': 3.869877859576493}\n",
    "    "
   ]
  },
  {
   "cell_type": "markdown",
   "id": "b2c38673",
   "metadata": {},
   "source": [
    "yolov5s"
   ]
  },
  {
   "cell_type": "code",
   "execution_count": null,
   "id": "d87cab8f",
   "metadata": {},
   "outputs": [],
   "source": [
    "Class     Images  Instances          P          R      mAP50   \n",
    "                   all       5000      36335      0.666      0.516      0.561      0.371\n",
    "\n",
    "{'time': 8.7967001953125,\n",
    " 'gpu': 0.1012224,\n",
    " 'disk': 27.088075,\n",
    " 'cost': 2004.08,\n",
    " 'emission': 0.394371690519242,\n",
    " 'energy': 1.3102049518911694}\n",
    "\n",
    "{'time': 33.87255859375,\n",
    " 'gpu': 1.4320312320000002,\n",
    " 'disk': 27.088075,\n",
    " 'cost': 7716.2,\n",
    " 'emission': 2.0890319352509965,\n",
    " 'energy': 6.940305432727562}"
   ]
  },
  {
   "cell_type": "markdown",
   "id": "a325f3ec",
   "metadata": {},
   "source": [
    "yolov5m"
   ]
  },
  {
   "cell_type": "code",
   "execution_count": null,
   "id": "210157b6",
   "metadata": {},
   "outputs": [],
   "source": [
    "Class     Images  Instances          P          R      mAP50   \n",
    "                   all       5000      36335      0.717      0.579      0.635       0.45\n",
    "\n",
    "{'time': 11.7536748046875,\n",
    " 'gpu': 0.22547814400000002,\n",
    " 'disk': 79.149318,\n",
    " 'cost': 2677.2999999999997,\n",
    " 'emission': 0.5393547899250696,\n",
    " 'energy': 1.7918763784886034}\n",
    "\n",
    "    \n",
    "{'time': 68.9788046875,\n",
    " 'gpu': 2.63469824,\n",
    " 'disk': 79.149318,\n",
    " 'cost': 31615.649999999998,\n",
    " 'emission': 4.251776536988496,\n",
    " 'energy': 14.125503445144506}"
   ]
  },
  {
   "cell_type": "markdown",
   "id": "9efe660d",
   "metadata": {},
   "source": [
    "yolov5l"
   ]
  },
  {
   "cell_type": "code",
   "execution_count": null,
   "id": "fcc82ef6",
   "metadata": {},
   "outputs": [],
   "source": [
    "Class     Images  Instances          P          R      mAP50   \n",
    "                   all       5000      36335       0.74      0.608      0.65      0.487\n",
    "\n",
    "{'time': 14.83196875,\n",
    " 'gpu': 0.448994304,\n",
    " 'disk': 173.747312,\n",
    " 'cost': 6798.0,\n",
    " 'emission': 0.7556919587373604,\n",
    " 'energy': 2.5106045140776097}\n",
    "\n",
    "{'time': 108.8918515625,\n",
    " 'gpu': 2.631179776,\n",
    " 'disk': 173.747312,\n",
    " 'cost': 49909.2,\n",
    " 'emission': 6.689226394129913,\n",
    " 'energy': 22.223343502092735}"
   ]
  },
  {
   "cell_type": "markdown",
   "id": "cffe26c9",
   "metadata": {},
   "source": [
    "yolov5x"
   ]
  },
  {
   "cell_type": "code",
   "execution_count": null,
   "id": "5449bc09",
   "metadata": {},
   "outputs": [],
   "source": [
    "{'time': 17.82190234375,\n",
    " 'gpu': 0.796494848,\n",
    " 'disk': 323.175532,\n",
    " 'cost': 8169.15,\n",
    " 'emission': 0.9448155593873256,\n",
    " 'energy': 3.138922124210384}\n",
    "\n",
    "{'time': 168.052703125,\n",
    " 'gpu': 3.4875996160000002,\n",
    " 'disk': 295.876767,\n",
    " 'cost': 0.82,\n",
    " 'emission': 10.327865613516913,\n",
    " 'energy': 34.31184589208277}\n",
    "\n",
    "Class     Images  Instances          P          R      mAP50   \n",
    "                   all       5000      36335      0.743      0.626      0.683      0.505"
   ]
  }
 ],
 "metadata": {
  "kernelspec": {
   "display_name": "Python 3 (ipykernel)",
   "language": "python",
   "name": "python3"
  },
  "language_info": {
   "codemirror_mode": {
    "name": "ipython",
    "version": 3
   },
   "file_extension": ".py",
   "mimetype": "text/x-python",
   "name": "python",
   "nbconvert_exporter": "python",
   "pygments_lexer": "ipython3",
   "version": "3.10.6"
  }
 },
 "nbformat": 4,
 "nbformat_minor": 5
}
