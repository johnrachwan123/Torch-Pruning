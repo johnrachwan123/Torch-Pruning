{
 "cells": [
  {
   "cell_type": "code",
   "execution_count": 24,
   "id": "e509e5c8",
   "metadata": {},
   "outputs": [],
   "source": [
    "import os\n",
    "os.chdir('/nfs/homedirs/rachwan/Evaluation-Tool')"
   ]
  },
  {
   "cell_type": "markdown",
   "id": "7be485ea",
   "metadata": {},
   "source": [
    "# ResNet18"
   ]
  },
  {
   "cell_type": "code",
   "execution_count": 25,
   "id": "841a9dfe",
   "metadata": {},
   "outputs": [],
   "source": [
    "import copy\n",
    "\n",
    "from utils.model_utils import *\n",
    "from torch.optim.lr_scheduler import OneCycleLR\n",
    "from utils.constants import TRAINERS_DIR, DATASET_PATH\n",
    "from models.networks.ResNet18 import ResNet18\n",
    "from models.losses.CrossEntropy import CrossEntropy\n",
    "\n",
    "from models.metrics.Evaluator import Evaluator"
   ]
  },
  {
   "cell_type": "code",
   "execution_count": 26,
   "id": "9c6eb8e2",
   "metadata": {},
   "outputs": [],
   "source": [
    "model = ResNet18().cuda()"
   ]
  },
  {
   "cell_type": "code",
   "execution_count": 28,
   "id": "7d811159",
   "metadata": {},
   "outputs": [],
   "source": [
    "optimizer = torch.optim.Adam(model.parameters(), lr=2e-3, weight_decay=5e-5)"
   ]
  },
  {
   "cell_type": "code",
   "execution_count": 29,
   "id": "5336f221",
   "metadata": {},
   "outputs": [
    {
     "name": "stdout",
     "output_type": "stream",
     "text": [
      "Files already downloaded and verified\n",
      "Files already downloaded and verified\n"
     ]
    },
    {
     "name": "stderr",
     "output_type": "stream",
     "text": [
      "/nfs/homedirs/rachwan/miniconda3/envs/structure_pruning/lib/python3.10/site-packages/torch/utils/data/dataloader.py:563: UserWarning: This DataLoader will create 10 worker processes in total. Our suggested max number of worker in current system is 2, which is smaller than what this DataLoader is going to create. Please be aware that excessive worker creation might get DataLoader running slow or even freeze, lower the worker number to avoid potential slowness/freeze if necessary.\n",
      "  warnings.warn(_create_warning_msg(\n"
     ]
    }
   ],
   "source": [
    "# Get Data\n",
    "\n",
    "transform_train = transforms.Compose([\n",
    "        transforms.RandomCrop(32, padding=4),\n",
    "        transforms.Resize(64),\n",
    "        transforms.RandomHorizontalFlip(),\n",
    "        transforms.ToTensor(),\n",
    "        transforms.Normalize((0.4914, 0.4822, 0.4465), (0.2023, 0.1994, 0.2010)),\n",
    "    ])\n",
    "\n",
    "transform_test = transforms.Compose([\n",
    "    transforms.Resize(64),\n",
    "    transforms.ToTensor(),\n",
    "    transforms.Normalize((0.4914, 0.4822, 0.4465), (0.2023, 0.1994, 0.2010)),\n",
    "])\n",
    "\n",
    "train_set = datasets.CIFAR10(DATASET_PATH, train=True, transform=transform_train, download=True)\n",
    "\n",
    "test_set = datasets.CIFAR10(root=DATASET_PATH, train=False, transform=transform_test, download=True)\n",
    "\n",
    "train_loader = torch.utils.data.DataLoader(\n",
    "        train_set,\n",
    "        batch_size=128,\n",
    "        shuffle=True,\n",
    "        pin_memory=True,\n",
    "        num_workers=10\n",
    "    )\n",
    "test_loader = torch.utils.data.DataLoader(\n",
    "    test_set,\n",
    "    batch_size=128,\n",
    "    shuffle=False,\n",
    "    pin_memory=True,\n",
    "    num_workers=10\n",
    ")"
   ]
  },
  {
   "cell_type": "code",
   "execution_count": 30,
   "id": "60784f2e",
   "metadata": {},
   "outputs": [],
   "source": [
    "scheduler = OneCycleLR(optimizer, max_lr=2e-3,\n",
    "                                 steps_per_epoch=len(train_loader), epochs=1)"
   ]
  },
  {
   "cell_type": "code",
   "execution_count": 31,
   "id": "61c6e7d6",
   "metadata": {},
   "outputs": [],
   "source": [
    "loss = CrossEntropy()"
   ]
  },
  {
   "cell_type": "code",
   "execution_count": 32,
   "id": "02915cab",
   "metadata": {},
   "outputs": [],
   "source": [
    "trainer = find_right_model(\n",
    "            TRAINERS_DIR, 'SimpleTrainer',\n",
    "            model=model,\n",
    "            loss=loss,\n",
    "            optimizer=optimizer,\n",
    "            device='cuda',\n",
    "            epochs=1,\n",
    "            train_loader=train_loader,\n",
    "            test_loader=test_loader,\n",
    "            scheduler=scheduler,\n",
    "        )"
   ]
  },
  {
   "cell_type": "code",
   "execution_count": 33,
   "id": "c9ae3067",
   "metadata": {},
   "outputs": [],
   "source": [
    "# Load evaluatior\n",
    "evaluator = Evaluator()"
   ]
  },
  {
   "cell_type": "code",
   "execution_count": 34,
   "id": "f0b9abc3",
   "metadata": {},
   "outputs": [
    {
     "name": "stdout",
     "output_type": "stream",
     "text": [
      "\n",
      "\n",
      "EPOCH 0  \n",
      "\n",
      "\n",
      "\n",
      "\n"
     ]
    },
    {
     "name": "stderr",
     "output_type": "stream",
     "text": [
      "/nfs/homedirs/rachwan/miniconda3/envs/structure_pruning/lib/python3.10/site-packages/torch/utils/data/dataloader.py:563: UserWarning: This DataLoader will create 10 worker processes in total. Our suggested max number of worker in current system is 2, which is smaller than what this DataLoader is going to create. Please be aware that excessive worker creation might get DataLoader running slow or even freeze, lower the worker number to avoid potential slowness/freeze if necessary.\n",
      "  warnings.warn(_create_warning_msg(\n"
     ]
    },
    {
     "name": "stdout",
     "output_type": "stream",
     "text": [
      "Training... 390/391\n",
      "\n",
      "Evaluating... 78/79\n",
      "\n",
      "Test Accuracy: 0.6316257911392406\n"
     ]
    }
   ],
   "source": [
    "# Evaluate model\n",
    "evaluator.evaluate_full_training(trainer, model)"
   ]
  },
  {
   "cell_type": "code",
   "execution_count": 35,
   "id": "fe340a7e",
   "metadata": {},
   "outputs": [
    {
     "data": {
      "text/plain": [
       "{'time': 20588.53515625,\n",
       " 'gpu': 0.838925824,\n",
       " 'disk': 99.3140145,\n",
       " 'cost': 0.82,\n",
       " 'emission': 0.9242580836626553,\n",
       " 'energy': 3.0706248626666293}"
      ]
     },
     "execution_count": 35,
     "metadata": {},
     "output_type": "execute_result"
    }
   ],
   "source": [
    "r18metrics = copy.deepcopy(evaluator.get_all_metrics())\n",
    "r18metrics"
   ]
  },
  {
   "cell_type": "markdown",
   "id": "122d64df",
   "metadata": {},
   "source": [
    "# ResNet50"
   ]
  },
  {
   "cell_type": "code",
   "execution_count": 37,
   "id": "4d4bf475",
   "metadata": {},
   "outputs": [],
   "source": [
    "from models.networks.ResNet50 import ResNet50\n",
    "\n",
    "model = ResNet50().cuda()\n",
    "\n",
    "optimizer = torch.optim.Adam(model.parameters(), lr=2e-3, weight_decay=5e-5)\n",
    "\n",
    "scheduler = OneCycleLR(optimizer, max_lr=2e-3,\n",
    "                                 steps_per_epoch=len(train_loader), epochs=1)\n",
    "\n",
    "loss = CrossEntropy()\n",
    "\n",
    "trainer = find_right_model(\n",
    "            TRAINERS_DIR, 'SimpleTrainer',\n",
    "            model=model,\n",
    "            loss=loss,\n",
    "            optimizer=optimizer,\n",
    "            device='cuda',\n",
    "            epochs=1,\n",
    "            train_loader=train_loader,\n",
    "            test_loader=test_loader,\n",
    "            scheduler=scheduler,\n",
    "        )"
   ]
  },
  {
   "cell_type": "code",
   "execution_count": 38,
   "id": "9abaefeb",
   "metadata": {},
   "outputs": [
    {
     "name": "stdout",
     "output_type": "stream",
     "text": [
      "\n",
      "\n",
      "EPOCH 0  \n",
      "\n",
      "\n",
      "\n",
      "\n"
     ]
    },
    {
     "name": "stderr",
     "output_type": "stream",
     "text": [
      "/nfs/homedirs/rachwan/miniconda3/envs/structure_pruning/lib/python3.10/site-packages/torch/utils/data/dataloader.py:563: UserWarning: This DataLoader will create 10 worker processes in total. Our suggested max number of worker in current system is 2, which is smaller than what this DataLoader is going to create. Please be aware that excessive worker creation might get DataLoader running slow or even freeze, lower the worker number to avoid potential slowness/freeze if necessary.\n",
      "  warnings.warn(_create_warning_msg(\n"
     ]
    },
    {
     "name": "stdout",
     "output_type": "stream",
     "text": [
      "Training... 390/391\n",
      "\n",
      "Evaluating... 78/79\n",
      "\n",
      "Test Accuracy: 0.5279865506329114\n"
     ]
    },
    {
     "data": {
      "text/plain": [
       "{'time': 27887.11328125,\n",
       " 'gpu': 1.989208064,\n",
       " 'disk': 207.8178725,\n",
       " 'cost': 0.82,\n",
       " 'emission': 1.305582754948599,\n",
       " 'energy': 4.337484235709631}"
      ]
     },
     "execution_count": 38,
     "metadata": {},
     "output_type": "execute_result"
    }
   ],
   "source": [
    "# Load evaluatior\n",
    "evaluator = Evaluator()\n",
    "\n",
    "# Evaluate model\n",
    "evaluator.evaluate_full_training(trainer, model)\n",
    "\n",
    "r50metrics = copy.deepcopy(evaluator.get_all_metrics())\n",
    "r50metrics"
   ]
  },
  {
   "cell_type": "markdown",
   "id": "605fe02f",
   "metadata": {},
   "source": [
    "# Compare Models"
   ]
  },
  {
   "cell_type": "code",
   "execution_count": 39,
   "id": "8de68145",
   "metadata": {},
   "outputs": [],
   "source": [
    "import matplotlib.pyplot as plt\n",
    "import numpy as np"
   ]
  },
  {
   "cell_type": "code",
   "execution_count": 41,
   "id": "760ac8af",
   "metadata": {},
   "outputs": [
    {
     "data": {
      "image/png": "[encoded data removed]",
      "text/plain": [
       "<Figure size 640x480 with 1 Axes>"
      ]
     },
     "metadata": {},
     "output_type": "display_data"
    }
   ],
   "source": [
    "labels = ['Time', 'GPU', 'DISK', 'COST', 'CO2', 'Energy']\n",
    "r18_means = [round(r18/r50,1) * 100 for r18, r50 in zip(r18metrics.values(), r50metrics.values())]\n",
    "r50_means = [100 for v in r50metrics.values()]\n",
    "x = np.arange(len(labels))  # the label locations\n",
    "width = 0.35  # the width of the bars\n",
    "\n",
    "fig, ax = plt.subplots()\n",
    "rects1 = ax.bar(x - width/2, r18_means, width, label='ResNet18')\n",
    "rects2 = ax.bar(x + width/2, r50_means, width, label='ResNet50')\n",
    "\n",
    "# Add some text for labels, title and custom x-axis tick labels, etc.\n",
    "ax.set_ylabel('Scores')\n",
    "ax.set_title('ResNet18 vs ResNet50')\n",
    "ax.set_xticks(x, labels)\n",
    "ax.legend()\n",
    "\n",
    "ax.bar_label(rects1, padding=3)\n",
    "ax.bar_label(rects2, padding=3)\n",
    "\n",
    "fig.tight_layout()\n",
    "\n",
    "plt.show()"
   ]
  },
  {
   "cell_type": "code",
   "execution_count": null,
   "id": "2e6b3be5",
   "metadata": {},
   "outputs": [],
   "source": []
  }
 ],
 "metadata": {
  "kernelspec": {
   "display_name": "Python 3 (ipykernel)",
   "language": "python",
   "name": "python3"
  },
  "language_info": {
   "codemirror_mode": {
    "name": "ipython",
    "version": 3
   },
   "file_extension": ".py",
   "mimetype": "text/x-python",
   "name": "python",
   "nbconvert_exporter": "python",
   "pygments_lexer": "ipython3",
   "version": "3.10.6"
  }
 },
 "nbformat": 4,
 "nbformat_minor": 5
}