{
 "cells": [
  {
   "cell_type": "code",
   "execution_count": 33,
   "id": "b7f36e69",
   "metadata": {},
   "outputs": [],
   "source": [
    "import os\n",
    "os.chdir('/nfs/homedirs/rachwan/Torch-Pruning')\n",
    "import torch\n",
    "import numpy as np\n",
    "from mlflow import MlflowClient"
   ]
  },
  {
   "cell_type": "code",
   "execution_count": 34,
   "id": "aabee4ca",
   "metadata": {},
   "outputs": [],
   "source": [
    "import mlflow\n",
    "os.chdir('/nfs/homedirs/rachwan/Torch-Pruning/examples/yolo_example/yolov5')\n",
    "from models.yolo import Model"
   ]
  },
  {
   "cell_type": "code",
   "execution_count": 35,
   "id": "92cf4e62",
   "metadata": {},
   "outputs": [],
   "source": [
    "model = torch.load('/nfs/homedirs/rachwan/Torch-Pruning/examples/yolo_example/yolov5/runs/train/exp292/weights/best.pt')['model']"
   ]
  },
  {
   "cell_type": "code",
   "execution_count": 29,
   "id": "f4e971ee",
   "metadata": {
    "scrolled": true
   },
   "outputs": [
    {
     "name": "stdout",
     "output_type": "stream",
     "text": [
      "Number of Parameters: 2.1M\n"
     ]
    }
   ],
   "source": [
    "model\n",
    "params = sum([np.prod(p.size()) for p in model.parameters()])\n",
    "print(\"Number of Parameters: %.1fM\" % (params / 1e6))"
   ]
  },
  {
   "cell_type": "code",
   "execution_count": 30,
   "id": "b5590089",
   "metadata": {},
   "outputs": [],
   "source": [
    "os.chdir('/nfs/homedirs/rachwan/Torch-Pruning')\n",
    "mlflow.set_tracking_uri(\"sqlite:///sustainablecatalog.db\")"
   ]
  },
  {
   "cell_type": "code",
   "execution_count": 31,
   "id": "e76f84d4",
   "metadata": {},
   "outputs": [],
   "source": [
    "reg_model_name = \"resnet50-cifar10-pruned83-torch\""
   ]
  },
  {
   "cell_type": "code",
   "execution_count": 32,
   "id": "3d929fcb",
   "metadata": {},
   "outputs": [
    {
     "name": "stderr",
     "output_type": "stream",
     "text": [
      "2023/01/11 13:30:10 WARNING mlflow.sklearn: Model was missing function: predict. Not logging python_function flavor!\n",
      "2023/01/11 13:30:13 WARNING mlflow.utils.requirements_utils: Found torchvision version (0.13.1+cu113) contains a local version label (+cu113). MLflow logged a pip requirement for this package as 'torchvision==0.13.1' without the local version label to make it installable from PyPI. To specify pip requirements containing local version labels, please use `conda_env` or `pip_requirements`.\n",
      "Successfully registered model 'yolov5-coco-pruneds2n-torch'.\n",
      "2023/01/11 13:30:13 INFO mlflow.tracking._model_registry.client: Waiting up to 300 seconds for model version to finish creation.                     Model name: yolov5-coco-pruneds2n-torch, version 1\n",
      "Created version '1' of model 'yolov5-coco-pruneds2n-torch'.\n"
     ]
    },
    {
     "data": {
      "text/plain": [
       "<mlflow.models.model.ModelInfo at 0x7f92ba7fd750>"
      ]
     },
     "execution_count": 32,
     "metadata": {},
     "output_type": "execute_result"
    }
   ],
   "source": [
    "mlflow.sklearn.log_model(model, \"yolov5\",\n",
    "                             registered_model_name=reg_model_name)"
   ]
  },
  {
   "cell_type": "code",
   "execution_count": null,
   "id": "b80d93c9",
   "metadata": {},
   "outputs": [],
   "source": []
  }
 ],
 "metadata": {
  "kernelspec": {
   "display_name": "Python 3 (ipykernel)",
   "language": "python",
   "name": "python3"
  },
  "language_info": {
   "codemirror_mode": {
    "name": "ipython",
    "version": 3
   },
   "file_extension": ".py",
   "mimetype": "text/x-python",
   "name": "python",
   "nbconvert_exporter": "python",
   "pygments_lexer": "ipython3",
   "version": "3.10.6"
  }
 },
 "nbformat": 4,
 "nbformat_minor": 5
}
